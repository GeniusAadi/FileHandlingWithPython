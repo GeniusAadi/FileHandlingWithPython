{
 "cells": [
  {
   "cell_type": "code",
   "execution_count": 1,
   "id": "280ed1e0",
   "metadata": {},
   "outputs": [],
   "source": [
    "#Write record of 5 students according to their data type in binary file\n",
    "import pickle"
   ]
  },
  {
   "cell_type": "code",
   "execution_count": 2,
   "id": "5f3d2d2e",
   "metadata": {},
   "outputs": [],
   "source": [
    "#function to create binary file\n",
    "def create_binary(name):\n",
    "    c = open(f\"{name}.bin\",\"wb\")\n",
    "    heading={\"Roll no.\":0,\"Name\":\"\",\"Class\":\"\",\"Section\":\"\",\"Mathematics\":\"\",\"Physics\":\"\",\"Chemistry\":\"\"}\n",
    "    c.dump(heading)"
   ]
  },
  {
   "cell_type": "code",
   "execution_count": 3,
   "id": "8c06e0f2",
   "metadata": {},
   "outputs": [],
   "source": [
    "#function to write binary file\n",
    "def write_binary(name):\n",
    "    w = open(f\"{name}.bin\",\"ab\")\n",
    "    roll=0\n",
    "    ans='yes'\n",
    "    while ans in (\"yes\",\"y\",\"Y\",\"Yes\"):\n",
    "        name=input(\"Enter your name: \")\n",
    "        cls=input(\"Enter your class: \")\n",
    "        sec=input(\"Enter your section: \")\n",
    "        maths=int(input(\"Enter your marks in mathematics: \"))\n",
    "        physics=int(input(\"Enter your marks in physics: \"))\n",
    "        chemistry=int(input(\"Enter your marks in chemistry: \"))\n",
    "        roll+=1\n",
    "        entry={\"Roll no.\":roll,\"Name\":name,\"Class\":cls,\"Section\":sec,\"Mathematics\":maths,\"Physics\":physics,\"Chemistry\":chemistry}\n",
    "        w.dump(entry)\n",
    "        ans=input(\"Want to enter more data?(yes/no) \")"
   ]
  },
  {
   "cell_type": "code",
   "execution_count": 4,
   "id": "de0a58dd",
   "metadata": {},
   "outputs": [],
   "source": [
    "def read_binary(name):\n",
    "    r=open(f\"{name}.bin\",\"rb\")\n",
    "    print(r.load())"
   ]
  },
  {
   "cell_type": "code",
   "execution_count": 5,
   "id": "e9c80332",
   "metadata": {},
   "outputs": [
    {
     "name": "stdout",
     "output_type": "stream",
     "text": [
      "1.Create a binary file\n",
      "2.Write in binary file \n",
      "3.read binary file\n",
      "Choose the option from above: 3\n",
      "Enter name of file: student\n"
     ]
    },
    {
     "ename": "FileNotFoundError",
     "evalue": "[Errno 2] No such file or directory: 'student.bin'",
     "output_type": "error",
     "traceback": [
      "\u001b[1;31m---------------------------------------------------------------------------\u001b[0m",
      "\u001b[1;31mFileNotFoundError\u001b[0m                         Traceback (most recent call last)",
      "Cell \u001b[1;32mIn[5], line 11\u001b[0m\n\u001b[0;32m      9\u001b[0m     write_binary(name)\n\u001b[0;32m     10\u001b[0m \u001b[38;5;28;01melif\u001b[39;00m opt\u001b[38;5;241m==\u001b[39m\u001b[38;5;241m3\u001b[39m:\n\u001b[1;32m---> 11\u001b[0m     \u001b[43mread_binary\u001b[49m\u001b[43m(\u001b[49m\u001b[43mname\u001b[49m\u001b[43m)\u001b[49m\n\u001b[0;32m     12\u001b[0m \u001b[38;5;28;01melse\u001b[39;00m:\n\u001b[0;32m     13\u001b[0m     \u001b[38;5;28mprint\u001b[39m(\u001b[38;5;124m\"\u001b[39m\u001b[38;5;124mPlease choose the correct option from above!\u001b[39m\u001b[38;5;124m\"\u001b[39m)\n",
      "Cell \u001b[1;32mIn[4], line 2\u001b[0m, in \u001b[0;36mread_binary\u001b[1;34m(name)\u001b[0m\n\u001b[0;32m      1\u001b[0m \u001b[38;5;28;01mdef\u001b[39;00m \u001b[38;5;21mread_binary\u001b[39m(name):\n\u001b[1;32m----> 2\u001b[0m     r\u001b[38;5;241m=\u001b[39m\u001b[38;5;28;43mopen\u001b[39;49m\u001b[43m(\u001b[49m\u001b[38;5;124;43mf\u001b[39;49m\u001b[38;5;124;43m\"\u001b[39;49m\u001b[38;5;132;43;01m{\u001b[39;49;00m\u001b[43mname\u001b[49m\u001b[38;5;132;43;01m}\u001b[39;49;00m\u001b[38;5;124;43m.bin\u001b[39;49m\u001b[38;5;124;43m\"\u001b[39;49m\u001b[43m,\u001b[49m\u001b[38;5;124;43m\"\u001b[39;49m\u001b[38;5;124;43mrb\u001b[39;49m\u001b[38;5;124;43m\"\u001b[39;49m\u001b[43m)\u001b[49m\n\u001b[0;32m      3\u001b[0m     \u001b[38;5;28mprint\u001b[39m(r\u001b[38;5;241m.\u001b[39mload())\n",
      "File \u001b[1;32mD:\\program files\\Lib\\site-packages\\IPython\\core\\interactiveshell.py:284\u001b[0m, in \u001b[0;36m_modified_open\u001b[1;34m(file, *args, **kwargs)\u001b[0m\n\u001b[0;32m    277\u001b[0m \u001b[38;5;28;01mif\u001b[39;00m file \u001b[38;5;129;01min\u001b[39;00m {\u001b[38;5;241m0\u001b[39m, \u001b[38;5;241m1\u001b[39m, \u001b[38;5;241m2\u001b[39m}:\n\u001b[0;32m    278\u001b[0m     \u001b[38;5;28;01mraise\u001b[39;00m \u001b[38;5;167;01mValueError\u001b[39;00m(\n\u001b[0;32m    279\u001b[0m         \u001b[38;5;124mf\u001b[39m\u001b[38;5;124m\"\u001b[39m\u001b[38;5;124mIPython won\u001b[39m\u001b[38;5;124m'\u001b[39m\u001b[38;5;124mt let you open fd=\u001b[39m\u001b[38;5;132;01m{\u001b[39;00mfile\u001b[38;5;132;01m}\u001b[39;00m\u001b[38;5;124m by default \u001b[39m\u001b[38;5;124m\"\u001b[39m\n\u001b[0;32m    280\u001b[0m         \u001b[38;5;124m\"\u001b[39m\u001b[38;5;124mas it is likely to crash IPython. If you know what you are doing, \u001b[39m\u001b[38;5;124m\"\u001b[39m\n\u001b[0;32m    281\u001b[0m         \u001b[38;5;124m\"\u001b[39m\u001b[38;5;124myou can use builtins\u001b[39m\u001b[38;5;124m'\u001b[39m\u001b[38;5;124m open.\u001b[39m\u001b[38;5;124m\"\u001b[39m\n\u001b[0;32m    282\u001b[0m     )\n\u001b[1;32m--> 284\u001b[0m \u001b[38;5;28;01mreturn\u001b[39;00m \u001b[43mio_open\u001b[49m\u001b[43m(\u001b[49m\u001b[43mfile\u001b[49m\u001b[43m,\u001b[49m\u001b[43m \u001b[49m\u001b[38;5;241;43m*\u001b[39;49m\u001b[43margs\u001b[49m\u001b[43m,\u001b[49m\u001b[43m \u001b[49m\u001b[38;5;241;43m*\u001b[39;49m\u001b[38;5;241;43m*\u001b[39;49m\u001b[43mkwargs\u001b[49m\u001b[43m)\u001b[49m\n",
      "\u001b[1;31mFileNotFoundError\u001b[0m: [Errno 2] No such file or directory: 'student.bin'"
     ]
    }
   ],
   "source": [
    "opt=int(input('''1.Create a binary file\n",
    "2.Write in binary file \n",
    "3.read binary file\n",
    "Choose the option from above: '''))\n",
    "name=input(\"Enter name of file: \")\n",
    "if opt==1:\n",
    "    create_binary(name)\n",
    "elif opt==2:\n",
    "    write_binary(name)\n",
    "elif opt==3:\n",
    "    read_binary(name)\n",
    "else:\n",
    "    print(\"Please choose the correct option from above!\")"
   ]
  },
  {
   "cell_type": "code",
   "execution_count": null,
   "id": "c405edb5",
   "metadata": {},
   "outputs": [],
   "source": []
  }
 ],
 "metadata": {
  "kernelspec": {
   "display_name": "Python 3 (ipykernel)",
   "language": "python",
   "name": "python3"
  },
  "language_info": {
   "codemirror_mode": {
    "name": "ipython",
    "version": 3
   },
   "file_extension": ".py",
   "mimetype": "text/x-python",
   "name": "python",
   "nbconvert_exporter": "python",
   "pygments_lexer": "ipython3",
   "version": "3.11.3"
  }
 },
 "nbformat": 4,
 "nbformat_minor": 5
}
