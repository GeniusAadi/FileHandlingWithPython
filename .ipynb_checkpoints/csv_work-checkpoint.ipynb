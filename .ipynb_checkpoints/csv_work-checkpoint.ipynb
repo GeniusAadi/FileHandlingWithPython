{
 "cells": [
  {
   "cell_type": "code",
   "execution_count": 1,
   "id": "5f985798",
   "metadata": {},
   "outputs": [],
   "source": [
    "#take roll no.,name,class,section,marks of 10 students from user and write it in a csv file student.csv\n",
    "import csv"
   ]
  },
  {
   "cell_type": "code",
   "execution_count": 2,
   "id": "494a9672",
   "metadata": {},
   "outputs": [],
   "source": [
    "#function to create csv file\n",
    "def create_csv(name):\n",
    "    c = open(f\"{name}.csv\",\"w\")\n",
    "    w = csv.writer(c)\n",
    "    h = [\"Roll no.\", \"Name\", \"Class\", \"Section\", \"Total marks\"]\n",
    "    w.writerow(h)\n"
   ]
  },
  {
   "cell_type": "code",
   "execution_count": 3,
   "id": "65932bf1",
   "metadata": {},
   "outputs": [],
   "source": [
    "#function to write in csv file\n",
    "def write_csv(name):\n",
    "    c = open(f\"{name}.csv\",\"a\",newline='')\n",
    "    w = csv.writer(c)\n",
    "    lst = []\n",
    "    ans='yes'\n",
    "    while ans in (\"yes\",\"Yes\",\"y\",\"Y\"):\n",
    "        roll=input(\"Roll no.= \")\n",
    "        nam=input(\"Name= \")\n",
    "        Class=input(\"Class= \")\n",
    "        sec=input(\"Section= \")\n",
    "        total=input(\"Total marks= \")\n",
    "        lst.append([roll,nam,Class,sec,total])\n",
    "        w.writerow(lst)\n",
    "        ans=input(\"Do you want to enter more data?(yes/no) \")\n"
   ]
  },
  {
   "cell_type": "code",
   "execution_count": 4,
   "id": "43a38d80",
   "metadata": {},
   "outputs": [],
   "source": [
    "#function to read csv file\n",
    "def read_csv(name):\n",
    "    c = open(f\"{name}.csv\",\"r\")\n",
    "    r = csv.reader(c)\n",
    "    for row in r:\n",
    "        print(row)\n"
   ]
  },
  {
   "cell_type": "code",
   "execution_count": 7,
   "id": "18681584",
   "metadata": {},
   "outputs": [
    {
     "name": "stdout",
     "output_type": "stream",
     "text": [
      "Choose the option you want to do:\n",
      "1.Create csv file\n",
      "2.Write csv file\n",
      "3.Read csv file\n",
      "Your choice = 3\n",
      "Enter file name= student\n",
      "['Roll no.', 'Name', 'Class', 'Section', 'Total marks']\n",
      "[\"['4', 'Aditya', '12th', 'Maths', '100']\"]\n",
      "[\"['5', 'Sanidhya', '12th', 'Maths', '100']\"]\n"
     ]
    }
   ],
   "source": [
    "#user's input\n",
    "option=int(input('''Choose the option you want to do:\n",
    "1.Create csv file\n",
    "2.Write csv file\n",
    "3.Read csv file\n",
    "Your choice = '''))\n",
    "file_name=input(\"Enter file name= \")\n",
    "#Conditons for user's input\n",
    "if option == 1:\n",
    "    create_csv(file_name)\n",
    "elif option == 2:\n",
    "    write_csv(file_name)\n",
    "elif option == 3:\n",
    "    read_csv(file_name)\n",
    "else:\n",
    "    print(\"Error!Please choose from given options.\")"
   ]
  },
  {
   "cell_type": "code",
   "execution_count": null,
   "id": "c4012ee2",
   "metadata": {},
   "outputs": [],
   "source": []
  },
  {
   "cell_type": "code",
   "execution_count": null,
   "id": "b228f226",
   "metadata": {},
   "outputs": [],
   "source": []
  },
  {
   "cell_type": "code",
   "execution_count": null,
   "id": "ffc849c1",
   "metadata": {},
   "outputs": [],
   "source": []
  }
 ],
 "metadata": {
  "kernelspec": {
   "display_name": "Python 3 (ipykernel)",
   "language": "python",
   "name": "python3"
  },
  "language_info": {
   "codemirror_mode": {
    "name": "ipython",
    "version": 3
   },
   "file_extension": ".py",
   "mimetype": "text/x-python",
   "name": "python",
   "nbconvert_exporter": "python",
   "pygments_lexer": "ipython3",
   "version": "3.11.3"
  }
 },
 "nbformat": 4,
 "nbformat_minor": 5
}
