{
 "cells": [
  {
   "cell_type": "code",
   "execution_count": 1,
   "id": "280ed1e0",
   "metadata": {},
   "outputs": [],
   "source": [
    "#Write record of 5 students according to their data type in binary file\n",
    "import pickle"
   ]
  },
  {
   "cell_type": "code",
   "execution_count": 2,
   "id": "5f3d2d2e",
   "metadata": {},
   "outputs": [],
   "source": [
    "#function to create binary file\n",
    "def create_binary(name):\n",
    "    c = open(f\"{name}.bin\",\"wb\")\n",
    "    heading={\"Roll no.\":0,\"Name\":\"\",\"Class\":\"\",\"Section\":\"\",\"Mathematics\":\"\",\"Physics\":\"\",\"Chemistry\":\"\"}\n",
    "    c.dump(heading)"
   ]
  },
  {
   "cell_type": "code",
   "execution_count": 3,
   "id": "8c06e0f2",
   "metadata": {},
   "outputs": [],
   "source": [
    "#function to write binary file\n",
    "def write_binary(name):\n",
    "    w = open(f\"{name}.bin\",\"ab\")\n",
    "    roll=0\n",
    "    ans='yes'\n",
    "    while ans in (\"yes\",\"y\",\"Y\",\"Yes\"):\n",
    "        name=input(\"Enter your name: \")\n",
    "        cls=input(\"Enter your class: \")\n",
    "        sec=input(\"Enter your section: \")\n",
    "        maths=int(input(\"Enter your marks in mathematics: \"))\n",
    "        physics=int(input(\"Enter your marks in physics: \"))\n",
    "        chemistry=int(input(\"Enter your marks in chemistry: \"))\n",
    "        roll+=1\n",
    "        entry={\"Roll no.\":roll,\"Name\":name,\"Class\":cls,\"Section\":sec,\"Mathematics\":maths,\"Physics\":physics,\"Chemistry\":chemistry}\n",
    "        w.dump(entry)\n",
    "        ans=input(\"Want to enter more data?(yes/no) \")"
   ]
  },
  {
   "cell_type": "code",
   "execution_count": 4,
   "id": "2d587910",
   "metadata": {},
   "outputs": [],
   "source": [
    "def read_binary(name):\n",
    "    r=open(f\"{name}.bin\",\"rb\")\n",
    "    print(r.load())"
   ]
  },
  {
   "cell_type": "code",
   "execution_count": null,
   "id": "7f299730",
   "metadata": {},
   "outputs": [],
   "source": [
    "opt=int(input('''1.Create a binary file\n",
    "2.Write in binary file \n",
    "3.read binary file\n",
    "Choose the option from above: '''))\n",
    "name=input(\"Enter name of file: \")\n",
    "if opt==1:\n",
    "    create_binary(name)\n",
    "elif opt==2:\n",
    "    write_binary(name)\n",
    "elif opt==3:\n",
    "    read_binary(name)\n",
    "else:\n",
    "    print(\"Please choose the correct option from above!\")"
   ]
  }
 ],
 "metadata": {
  "kernelspec": {
   "display_name": "Python 3 (ipykernel)",
   "language": "python",
   "name": "python3"
  },
  "language_info": {
   "codemirror_mode": {
    "name": "ipython",
    "version": 3
   },
   "file_extension": ".py",
   "mimetype": "text/x-python",
   "name": "python",
   "nbconvert_exporter": "python",
   "pygments_lexer": "ipython3",
   "version": "3.11.3"
  }
 },
 "nbformat": 4,
 "nbformat_minor": 5
}
